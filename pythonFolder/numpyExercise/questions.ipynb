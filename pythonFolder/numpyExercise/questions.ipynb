{
 "cells": [
  {
   "cell_type": "code",
   "execution_count": 1,
   "id": "7614d074",
   "metadata": {},
   "outputs": [],
   "source": [
    "# import numpy as np\n",
    "import numpy as np"
   ]
  },
  {
   "cell_type": "code",
   "execution_count": 3,
   "id": "8a0ca82c",
   "metadata": {},
   "outputs": [
    {
     "name": "stdout",
     "output_type": "stream",
     "text": [
      "2.2.6\n",
      "{\n",
      "  \"Compilers\": {\n",
      "    \"c\": {\n",
      "      \"name\": \"msvc\",\n",
      "      \"linker\": \"link\",\n",
      "      \"version\": \"19.29.30159\",\n",
      "      \"commands\": \"cl\"\n",
      "    },\n",
      "    \"cython\": {\n",
      "      \"name\": \"cython\",\n",
      "      \"linker\": \"cython\",\n",
      "      \"version\": \"3.1.0\",\n",
      "      \"commands\": \"cython\"\n",
      "    },\n",
      "    \"c++\": {\n",
      "      \"name\": \"msvc\",\n",
      "      \"linker\": \"link\",\n",
      "      \"version\": \"19.29.30159\",\n",
      "      \"commands\": \"cl\"\n",
      "    }\n",
      "  },\n",
      "  \"Machine Information\": {\n",
      "    \"host\": {\n",
      "      \"cpu\": \"x86_64\",\n",
      "      \"family\": \"x86_64\",\n",
      "      \"endian\": \"little\",\n",
      "      \"system\": \"windows\"\n",
      "    },\n",
      "    \"build\": {\n",
      "      \"cpu\": \"x86_64\",\n",
      "      \"family\": \"x86_64\",\n",
      "      \"endian\": \"little\",\n",
      "      \"system\": \"windows\"\n",
      "    }\n",
      "  },\n",
      "  \"Build Dependencies\": {\n",
      "    \"blas\": {\n",
      "      \"name\": \"scipy-openblas\",\n",
      "      \"found\": true,\n",
      "      \"version\": \"0.3.29\",\n",
      "      \"detection method\": \"pkgconfig\",\n",
      "      \"include directory\": \"C:/Users/runneradmin/AppData/Local/Temp/cibw-run-gnu2g9dg/cp313-win_amd64/build/venv/Lib/site-packages/scipy_openblas64/include\",\n",
      "      \"lib directory\": \"C:/Users/runneradmin/AppData/Local/Temp/cibw-run-gnu2g9dg/cp313-win_amd64/build/venv/Lib/site-packages/scipy_openblas64/lib\",\n",
      "      \"openblas configuration\": \"OpenBLAS 0.3.29  USE64BITINT DYNAMIC_ARCH NO_AFFINITY Haswell MAX_THREADS=24\",\n",
      "      \"pc file directory\": \"C:/a/numpy/numpy/.openblas\"\n",
      "    },\n",
      "    \"lapack\": {\n",
      "      \"name\": \"scipy-openblas\",\n",
      "      \"found\": true,\n",
      "      \"version\": \"0.3.29\",\n",
      "      \"detection method\": \"pkgconfig\",\n",
      "      \"include directory\": \"C:/Users/runneradmin/AppData/Local/Temp/cibw-run-gnu2g9dg/cp313-win_amd64/build/venv/Lib/site-packages/scipy_openblas64/include\",\n",
      "      \"lib directory\": \"C:/Users/runneradmin/AppData/Local/Temp/cibw-run-gnu2g9dg/cp313-win_amd64/build/venv/Lib/site-packages/scipy_openblas64/lib\",\n",
      "      \"openblas configuration\": \"OpenBLAS 0.3.29  USE64BITINT DYNAMIC_ARCH NO_AFFINITY Haswell MAX_THREADS=24\",\n",
      "      \"pc file directory\": \"C:/a/numpy/numpy/.openblas\"\n",
      "    }\n",
      "  },\n",
      "  \"Python Information\": {\n",
      "    \"path\": \"C:\\\\Users\\\\runneradmin\\\\AppData\\\\Local\\\\Temp\\\\build-env-iv6bfc05\\\\Scripts\\\\python.exe\",\n",
      "    \"version\": \"3.13\"\n",
      "  },\n",
      "  \"SIMD Extensions\": {\n",
      "    \"baseline\": [\n",
      "      \"SSE\",\n",
      "      \"SSE2\",\n",
      "      \"SSE3\"\n",
      "    ],\n",
      "    \"found\": [\n",
      "      \"SSSE3\",\n",
      "      \"SSE41\",\n",
      "      \"POPCNT\",\n",
      "      \"SSE42\",\n",
      "      \"AVX\",\n",
      "      \"F16C\",\n",
      "      \"FMA3\",\n",
      "      \"AVX2\"\n",
      "    ],\n",
      "    \"not found\": [\n",
      "      \"AVX512F\",\n",
      "      \"AVX512CD\",\n",
      "      \"AVX512_SKX\",\n",
      "      \"AVX512_CLX\",\n",
      "      \"AVX512_CNL\",\n",
      "      \"AVX512_ICL\"\n",
      "    ]\n",
      "  }\n",
      "}\n",
      "None\n"
     ]
    },
    {
     "name": "stderr",
     "output_type": "stream",
     "text": [
      "c:\\Users\\123as\\OneDrive\\Desktop\\codeFolder\\pythonFolder\\numpyExercise\\.venv\\Lib\\site-packages\\numpy\\__config__.py:155: UserWarning: Install `pyyaml` for better output\n",
      "  warnings.warn(\"Install `pyyaml` for better output\", stacklevel=1)\n"
     ]
    }
   ],
   "source": [
    "# print numpy verison and conf\n",
    "print(np.__version__)\n",
    "print(np.show_config())"
   ]
  },
  {
   "cell_type": "code",
   "execution_count": 6,
   "id": "1c6769b3",
   "metadata": {},
   "outputs": [
    {
     "data": {
      "text/plain": [
       "array([0., 0., 0., 0., 0., 0., 0., 0., 0., 0.])"
      ]
     },
     "execution_count": 6,
     "metadata": {},
     "output_type": "execute_result"
    }
   ],
   "source": [
    "# create null vector of size 10\n",
    "\n",
    "np.zeros(10)"
   ]
  },
  {
   "cell_type": "code",
   "execution_count": null,
   "id": "71fcdafc",
   "metadata": {},
   "outputs": [
    {
     "data": {
      "text/plain": [
       "4"
      ]
     },
     "execution_count": 18,
     "metadata": {},
     "output_type": "execute_result"
    }
   ],
   "source": [
    "# how to find the memory size of any array\n",
    "\n",
    "arr = np.random.randint(20, 30, size=(2, 2, 2))\n",
    "arr.itemsize * arr.size"
   ]
  },
  {
   "cell_type": "code",
   "execution_count": null,
   "id": "f7d20cde",
   "metadata": {},
   "outputs": [
    {
     "name": "stdout",
     "output_type": "stream",
     "text": [
      "add(x1, x2, /, out=None, *, where=True, casting='same_kind', order='K', dtype=None, subok=True[, signature])\n",
      "\n",
      "Add arguments element-wise.\n",
      "\n",
      "Parameters\n",
      "----------\n",
      "x1, x2 : array_like\n",
      "    The arrays to be added.\n",
      "    If ``x1.shape != x2.shape``, they must be broadcastable to a common\n",
      "    shape (which becomes the shape of the output).\n",
      "out : ndarray, None, or tuple of ndarray and None, optional\n",
      "    A location into which the result is stored. If provided, it must have\n",
      "    a shape that the inputs broadcast to. If not provided or None,\n",
      "    a freshly-allocated array is returned. A tuple (possible only as a\n",
      "    keyword argument) must have length equal to the number of outputs.\n",
      "where : array_like, optional\n",
      "    This condition is broadcast over the input. At locations where the\n",
      "    condition is True, the `out` array will be set to the ufunc result.\n",
      "    Elsewhere, the `out` array will retain its original value.\n",
      "    Note that if an uninitialized `out` array is created via the default\n",
      "    ``out=None``, locations within it where the condition is False will\n",
      "    remain uninitialized.\n",
      "**kwargs\n",
      "    For other keyword-only arguments, see the\n",
      "    :ref:`ufunc docs <ufuncs.kwargs>`.\n",
      "\n",
      "Returns\n",
      "-------\n",
      "add : ndarray or scalar\n",
      "    The sum of `x1` and `x2`, element-wise.\n",
      "    This is a scalar if both `x1` and `x2` are scalars.\n",
      "\n",
      "Notes\n",
      "-----\n",
      "Equivalent to `x1` + `x2` in terms of array broadcasting.\n",
      "\n",
      "Examples\n",
      "--------\n",
      ">>> import numpy as np\n",
      ">>> np.add(1.0, 4.0)\n",
      "5.0\n",
      ">>> x1 = np.arange(9.0).reshape((3, 3))\n",
      ">>> x2 = np.arange(3.0)\n",
      ">>> np.add(x1, x2)\n",
      "array([[  0.,   2.,   4.],\n",
      "       [  3.,   5.,   7.],\n",
      "       [  6.,   8.,  10.]])\n",
      "\n",
      "The ``+`` operator can be used as a shorthand for ``np.add`` on ndarrays.\n",
      "\n",
      ">>> x1 = np.arange(9.0).reshape((3, 3))\n",
      ">>> x2 = np.arange(3.0)\n",
      ">>> x1 + x2\n",
      "array([[ 0.,  2.,  4.],\n",
      "       [ 3.,  5.,  7.],\n",
      "       [ 6.,  8., 10.]])\n"
     ]
    }
   ],
   "source": [
    "# get the documentation of the numpy add function from command line\n",
    "np.info(np.add) # or np.add.__doc__\n",
    "# if you want to use command line only: !python -c \"import numpy as np; np.info(np.add)\""
   ]
  },
  {
   "cell_type": "code",
   "execution_count": 24,
   "id": "6d05eb13",
   "metadata": {},
   "outputs": [
    {
     "data": {
      "text/plain": [
       "array([0., 0., 0., 0., 1., 0., 0., 0., 0., 0.])"
      ]
     },
     "execution_count": 24,
     "metadata": {},
     "output_type": "execute_result"
    }
   ],
   "source": [
    "# create a null verctor of size 10 but the fifth value which is 1\n",
    "\n",
    "arr = np.zeros(10)\n",
    "arr[4] = 1\n",
    "arr"
   ]
  },
  {
   "cell_type": "code",
   "execution_count": null,
   "id": "b27ad846",
   "metadata": {},
   "outputs": [
    {
     "data": {
      "text/plain": [
       "array([10, 11, 12, 13, 14, 15, 16, 17, 18, 19, 20, 21, 22, 23, 24, 25, 26,\n",
       "       27, 28, 29, 30, 31, 32, 33, 34, 35, 36, 37, 38, 39, 40, 41, 42, 43,\n",
       "       44, 45, 46, 47, 48])"
      ]
     },
     "execution_count": 28,
     "metadata": {},
     "output_type": "execute_result"
    }
   ],
   "source": [
    "# create a vector with random values between 10 to 49\n",
    "arr = np.random.randint(10, 49, (10,))\n",
    "arr\n",
    "# create a vector with values ranging from 10 to 49\n",
    "arr = np.arange(10, 49)\n",
    "arr\n"
   ]
  },
  {
   "cell_type": "code",
   "execution_count": 30,
   "id": "625ebabd",
   "metadata": {},
   "outputs": [
    {
     "data": {
      "text/plain": [
       "array([48, 47, 46, 45, 44, 43, 42, 41, 40, 39, 38, 37, 36, 35, 34, 33, 32,\n",
       "       31, 30, 29, 28, 27, 26, 25, 24, 23, 22, 21, 20, 19, 18, 17, 16, 15,\n",
       "       14, 13, 12, 11, 10])"
      ]
     },
     "execution_count": 30,
     "metadata": {},
     "output_type": "execute_result"
    }
   ],
   "source": [
    "# reverse a vector (first element becomes last)\n",
    "\n",
    "arr = arr[::-1]\n",
    "arr "
   ]
  },
  {
   "cell_type": "code",
   "execution_count": null,
   "id": "e1ee8991",
   "metadata": {},
   "outputs": [
    {
     "data": {
      "text/plain": [
       "array([[0, 1, 2],\n",
       "       [3, 4, 5],\n",
       "       [6, 7, 8]])"
      ]
     },
     "execution_count": 37,
     "metadata": {},
     "output_type": "execute_result"
    }
   ],
   "source": [
    "# create a 3x3 matrix with values ranging from 0 to 8\n",
    "\n",
    "arr = np.arange(0, 9)\n",
    "arr = arr.reshape((3, 3))\n",
    "arr"
   ]
  },
  {
   "cell_type": "code",
   "execution_count": null,
   "id": "378c1835",
   "metadata": {},
   "outputs": [
    {
     "data": {
      "text/plain": [
       "(array([0, 1, 4]),)"
      ]
     },
     "execution_count": 42,
     "metadata": {},
     "output_type": "execute_result"
    }
   ],
   "source": [
    "# find indices of non-zero elements from [1, 2, 0, 0, 4, 0]\n",
    "\n",
    "arr = np.array([1, 2, 0, 0, 4, 0])\n",
    "indices = np.where(arr != 0)\n",
    "indices\n",
    "\n",
    "# easier solution: indices = np.nonzero(arr)"
   ]
  },
  {
   "cell_type": "code",
   "execution_count": null,
   "id": "f7668201",
   "metadata": {},
   "outputs": [
    {
     "data": {
      "text/plain": [
       "array([[1., 0., 0.],\n",
       "       [0., 1., 0.],\n",
       "       [0., 0., 1.]])"
      ]
     },
     "execution_count": 49,
     "metadata": {},
     "output_type": "execute_result"
    }
   ],
   "source": [
    "# create a 3x3 identity matrix\n",
    "\n",
    "arr = np.identity(3)\n",
    "arr\n",
    "\n",
    "# another solution\n",
    "# np.eye(N = 3, M = 4, k = 1, dtype = int);  here; N is rows, M is columns (N by default), k is the position (1 up from the main diagonal)\n",
    "arr = np.eye(3)\n",
    "arr\n"
   ]
  },
  {
   "cell_type": "code",
   "execution_count": 53,
   "id": "b61ca146",
   "metadata": {},
   "outputs": [
    {
     "data": {
      "text/plain": [
       "array([[[0.87076762, 0.11774753, 0.88042345],\n",
       "        [0.64170295, 0.74566082, 0.96730697],\n",
       "        [0.89211589, 0.61239515, 0.36194375]],\n",
       "\n",
       "       [[0.01380846, 0.49844208, 0.39517705],\n",
       "        [0.97806491, 0.28629727, 0.84327917],\n",
       "        [0.81595518, 0.16472598, 0.51869395]],\n",
       "\n",
       "       [[0.55330029, 0.4586636 , 0.81932172],\n",
       "        [0.1618772 , 0.56105832, 0.38586712],\n",
       "        [0.32089225, 0.16110237, 0.40871765]]])"
      ]
     },
     "execution_count": 53,
     "metadata": {},
     "output_type": "execute_result"
    }
   ],
   "source": [
    "# create 3x3x3 array with random values\n",
    "\n",
    "arr = np.random.random((3, 3, 3))\n",
    "arr"
   ]
  },
  {
   "cell_type": "code",
   "execution_count": 56,
   "id": "96f1cd07",
   "metadata": {},
   "outputs": [
    {
     "name": "stdout",
     "output_type": "stream",
     "text": [
      "minimum:  0.0010588511225764208\n",
      "maximum:  0.9735766774505509\n"
     ]
    },
    {
     "data": {
      "text/plain": [
       "array([[0.20763069, 0.61245048, 0.200232  , 0.77628628, 0.39213284,\n",
       "        0.65404576, 0.70181292, 0.55185092, 0.26771121, 0.46024863],\n",
       "       [0.34118829, 0.45676497, 0.10189232, 0.68253944, 0.41095276,\n",
       "        0.25074218, 0.92312475, 0.77307181, 0.33946613, 0.02463195],\n",
       "       [0.13623496, 0.59192858, 0.85970285, 0.5973431 , 0.08544107,\n",
       "        0.80947162, 0.37214308, 0.83416753, 0.0882261 , 0.90576061],\n",
       "       [0.38394784, 0.57017033, 0.03395913, 0.73583486, 0.75210952,\n",
       "        0.7097867 , 0.50147738, 0.02477195, 0.06736805, 0.07858767],\n",
       "       [0.91286518, 0.34957191, 0.13816325, 0.27193223, 0.82680681,\n",
       "        0.28627585, 0.54520383, 0.69627544, 0.94894259, 0.33044734],\n",
       "       [0.49373486, 0.40382785, 0.5694313 , 0.57705183, 0.85472766,\n",
       "        0.88437654, 0.72112864, 0.33513806, 0.63088606, 0.54138864],\n",
       "       [0.90610706, 0.08504438, 0.96435564, 0.89231696, 0.0576312 ,\n",
       "        0.63857807, 0.58352118, 0.93128085, 0.73934072, 0.26274918],\n",
       "       [0.20789497, 0.97357668, 0.59511801, 0.38034245, 0.23748686,\n",
       "        0.9055394 , 0.05507112, 0.48623574, 0.5104119 , 0.92221632],\n",
       "       [0.92362082, 0.12328274, 0.34289504, 0.01800623, 0.71157214,\n",
       "        0.31850052, 0.03462884, 0.18132262, 0.69201658, 0.3961094 ],\n",
       "       [0.00105885, 0.56294795, 0.92919606, 0.03328148, 0.89849587,\n",
       "        0.27857783, 0.30285189, 0.35708173, 0.1813143 , 0.56740727]])"
      ]
     },
     "execution_count": 56,
     "metadata": {},
     "output_type": "execute_result"
    }
   ],
   "source": [
    "# create a 10x10 array with random values and find the minimum and maximum values\n",
    "arr = np.random.random((10, 10))\n",
    "print(\"minimum: \", arr.min())\n",
    "print(\"maximum: \", arr.max())\n",
    "arr"
   ]
  },
  {
   "cell_type": "code",
   "execution_count": 57,
   "id": "1cd2cfe0",
   "metadata": {},
   "outputs": [
    {
     "data": {
      "text/plain": [
       "np.float64(0.4207103018760182)"
      ]
     },
     "execution_count": 57,
     "metadata": {},
     "output_type": "execute_result"
    }
   ],
   "source": [
    "# create a random vector of size 30 and find the mean value\n",
    "\n",
    "arr = np.random.random((30, ))\n",
    "mean = arr.mean()\n",
    "mean"
   ]
  },
  {
   "cell_type": "code",
   "execution_count": 68,
   "id": "55f43e4b",
   "metadata": {},
   "outputs": [
    {
     "data": {
      "text/plain": [
       "array([[1., 1., 1., 1., 1.],\n",
       "       [1., 0., 0., 0., 1.],\n",
       "       [1., 0., 0., 0., 1.],\n",
       "       [1., 0., 0., 0., 1.],\n",
       "       [1., 1., 1., 1., 1.]])"
      ]
     },
     "execution_count": 68,
     "metadata": {},
     "output_type": "execute_result"
    }
   ],
   "source": [
    "# create a 2d array with 1 on the border and 0 inside\n",
    "\n",
    "arr = np.ones((5, 5))\n",
    "arr2 = np.zeros((3, 3))\n",
    "arr[1:4, 1:4] = arr2 # or 0, a constant value\n",
    "arr\n"
   ]
  },
  {
   "cell_type": "code",
   "execution_count": 78,
   "id": "75b90f90",
   "metadata": {},
   "outputs": [
    {
     "data": {
      "text/plain": [
       "array([[0.        , 0.        , 0.        , 0.        ],\n",
       "       [0.        , 0.20541692, 0.35185749, 0.        ],\n",
       "       [0.        , 0.38306923, 0.02256379, 0.        ],\n",
       "       [0.        , 0.        , 0.        , 0.        ]])"
      ]
     },
     "execution_count": 78,
     "metadata": {},
     "output_type": "execute_result"
    }
   ],
   "source": [
    "# how to add a border (filled with 0's) around an existing array?\n",
    "size = 5\n",
    "arr1 = np.random.random((size, size))\n",
    "\n",
    "arr2 = np.zeros((size+2, size+2))\n",
    "arr2[1:size+1, 1:size+1] = arr1\n",
    "arr2\n",
    "\n",
    "# easier solution\n",
    "\n",
    "size = 2\n",
    "arr1 = np.random.random((size, size))\n",
    "arr1 = np.pad(arr1, 1)\n",
    "arr1\n",
    "\n"
   ]
  },
  {
   "cell_type": "code",
   "execution_count": null,
   "id": "a120b321",
   "metadata": {},
   "outputs": [],
   "source": [
    "# what is the result of the following expressions?\n",
    "                            # My expectations | Answers\n",
    "                            # -------------------------\n",
    "0 * np.nan                  # np.nan            nan \n",
    "np.nan == np.nan            # false             False\n",
    "np.inf > np.nan             # true              False\n",
    "np.nan - np.nan             # np.nan            nan\n",
    "np.nan in set([np.nan])     # false             True\n",
    "0.3 == 3 * 0.1              # false             False"
   ]
  },
  {
   "cell_type": "code",
   "execution_count": 106,
   "id": "70a73f8b",
   "metadata": {},
   "outputs": [
    {
     "data": {
      "text/plain": [
       "array([[0, 0, 0, 0, 0],\n",
       "       [1, 0, 0, 0, 0],\n",
       "       [0, 2, 0, 0, 0],\n",
       "       [0, 0, 3, 0, 0],\n",
       "       [0, 0, 0, 4, 0]])"
      ]
     },
     "execution_count": 106,
     "metadata": {},
     "output_type": "execute_result"
    }
   ],
   "source": [
    "# create a 5x5 matrix with values 1, 2, 3, 4 just below the diagonal\n",
    "\n",
    "size = 5\n",
    "\n",
    "arr = np.eye(size, size, -1) \n",
    "for i in range(1, size - 1):\n",
    "    arr[i: size, i: size] += np.eye(size-i, size-i, -1)\n",
    "\n",
    "arr\n",
    "\n",
    "# more optimized solution using ADVANCED INDEXING\n",
    "\n",
    "matrix = np.zeros((size, size))\n",
    "arr = np.arange(1, 5)\n",
    "\n",
    "matrix[arr, arr - 1] = arr\n",
    "matrix\n",
    "\n",
    "# a better solution using NP.DIAG\n",
    "\n",
    "arr2 = np.diag(np.arange(1, 5), -1)\n",
    "arr2"
   ]
  },
  {
   "cell_type": "code",
   "execution_count": 118,
   "id": "05939e24",
   "metadata": {},
   "outputs": [
    {
     "data": {
      "text/plain": [
       "array([[0., 1., 0., 1., 0., 1., 0., 1.],\n",
       "       [1., 0., 1., 0., 1., 0., 1., 0.],\n",
       "       [0., 1., 0., 1., 0., 1., 0., 1.],\n",
       "       [1., 0., 1., 0., 1., 0., 1., 0.],\n",
       "       [0., 1., 0., 1., 0., 1., 0., 1.],\n",
       "       [1., 0., 1., 0., 1., 0., 1., 0.],\n",
       "       [0., 1., 0., 1., 0., 1., 0., 1.],\n",
       "       [1., 0., 1., 0., 1., 0., 1., 0.]])"
      ]
     },
     "execution_count": 118,
     "metadata": {},
     "output_type": "execute_result"
    }
   ],
   "source": [
    "# Create a 8x8 matrix and fill it with a checkerboard pattern\n",
    "size = 8\n",
    "checkboard = np.zeros((size, size))\n",
    "\n",
    "for i in range(size):\n",
    "    if i % 2 == 1:\n",
    "        checkboard += np.diag(np.ones((size-i,)), i) + np.diag(np.ones((size-i,)), -i)\n",
    "\n",
    "checkboard\n",
    "\n",
    "# better solution\n",
    "\n",
    "checkerboard = np.zeros((size, size))\n",
    "checkerboard[::2, 1::2] = 1\n",
    "checkerboard[1::2, ::2] = 1\n",
    "checkerboard\n"
   ]
  },
  {
   "cell_type": "code",
   "execution_count": null,
   "id": "af12cffb",
   "metadata": {},
   "outputs": [
    {
     "data": {
      "text/plain": [
       "(np.int64(1), np.int64(5), np.int64(3))"
      ]
     },
     "execution_count": 119,
     "metadata": {},
     "output_type": "execute_result"
    }
   ],
   "source": [
    "# Consider a (6, 7, 8) shape array, what is the index (x, y, z) of the 100th element\n",
    "\n",
    "# my gues is: (3, 2, 2) but if I count in reverse I get: (1, 5, 3)\n",
    "np.unravel_index(99, (6, 7, 8))"
   ]
  },
  {
   "cell_type": "code",
   "execution_count": 128,
   "id": "a7acc597",
   "metadata": {},
   "outputs": [
    {
     "data": {
      "text/plain": [
       "array([[0, 1, 0, 1, 0, 1, 0, 1],\n",
       "       [1, 0, 1, 0, 1, 0, 1, 0],\n",
       "       [0, 1, 0, 1, 0, 1, 0, 1],\n",
       "       [1, 0, 1, 0, 1, 0, 1, 0],\n",
       "       [0, 1, 0, 1, 0, 1, 0, 1],\n",
       "       [1, 0, 1, 0, 1, 0, 1, 0],\n",
       "       [0, 1, 0, 1, 0, 1, 0, 1],\n",
       "       [1, 0, 1, 0, 1, 0, 1, 0]])"
      ]
     },
     "execution_count": 128,
     "metadata": {},
     "output_type": "execute_result"
    }
   ],
   "source": [
    "# create a checkerboard 8x8 matrix using the tile function\n",
    "\n",
    "np.tile((0, 1), (8, 4))\n",
    "\n",
    "# another solution\n",
    "\n",
    "np.tile(np.array([[0, 1], [1, 0]]), (4, 4))"
   ]
  },
  {
   "cell_type": "code",
   "execution_count": null,
   "id": "155a6ffa",
   "metadata": {},
   "outputs": [
    {
     "data": {
      "text/plain": [
       "array([[ 0.86166053,  0.48373924, -1.40586718,  1.6175031 , -1.02794589],\n",
       "       [ 0.10581796,  1.6175031 ,  0.10581796,  1.6175031 , -0.65002461],\n",
       "       [-0.65002461, -0.65002461, -1.02794589,  0.86166053,  0.48373924],\n",
       "       [ 1.23958181, -0.27210332,  0.86166053, -1.02794589, -1.40586718],\n",
       "       [ 0.10581796,  0.48373924, -1.40586718, -1.40586718,  0.48373924]])"
      ]
     },
     "execution_count": 132,
     "metadata": {},
     "output_type": "execute_result"
    }
   ],
   "source": [
    "# Normalize a 5x5 matrix\n",
    "\n",
    "notNormal = np.random.randint(0, 10, (5, 5))\n",
    "normal = (notNormal - np.mean(notNormal)) / (np.std(notNormal))\n",
    "normal"
   ]
  },
  {
   "cell_type": "code",
   "execution_count": null,
   "id": "53681b2a",
   "metadata": {},
   "outputs": [],
   "source": [
    "# Create a custom dtype that describes a color as four unsigned bytes (RGBA)\n",
    "\n",
    "color = np.dtype([(\"r\", np.ubyte),\n",
    "                  (\"g\", np.ubyte),\n",
    "                  (\"b\", np.ubyte),\n",
    "                  (\"a\", np.ubyte)])"
   ]
  },
  {
   "cell_type": "code",
   "execution_count": null,
   "id": "f994a63b",
   "metadata": {},
   "outputs": [
    {
     "data": {
      "text/plain": [
       "array([[0.85914914, 1.29479905],\n",
       "       [0.69948811, 1.06719198],\n",
       "       [0.44134146, 0.88466804],\n",
       "       [1.32250411, 1.46606119],\n",
       "       [0.70009121, 1.03978096]])"
      ]
     },
     "execution_count": 139,
     "metadata": {},
     "output_type": "execute_result"
    }
   ],
   "source": [
    "# Multiply a 5x3 matrix by a 3x2 matrix (real matrix product)\n",
    "\n",
    "matrix1 = np.random.random((5, 3))\n",
    "matrix2 = np.random.random((3, 2))\n",
    "\n",
    "product = np.matmul(matrix1, matrix2)\n",
    "product\n",
    "\n",
    "# alternatives\n",
    "product = matrix1 @ matrix2\n",
    "product = np.dot(matrix1, matrix2)"
   ]
  },
  {
   "cell_type": "code",
   "execution_count": null,
   "id": "3ced366c",
   "metadata": {},
   "outputs": [
    {
     "data": {
      "text/plain": [
       "array([19, -7, 19,  1,  0, 15,  0, 11,  2, -6, -7, 11, 19, 10, 17, -5, 17,\n",
       "       17, -7,  0], dtype=int32)"
      ]
     },
     "execution_count": 144,
     "metadata": {},
     "output_type": "execute_result"
    }
   ],
   "source": [
    "# Given a 1D array, negate all elements which are between 3 and 8, in place\n",
    "\n",
    "arr1D = np.random.randint(0, 20, 20)\n",
    "arr1D = np.where((arr1D > 3) & (arr1D < 8), -arr1D, arr1D) # you can use arr1D.__neg__() instead of -arr1D\n",
    "arr1D\n",
    "\n"
   ]
  },
  {
   "cell_type": "code",
   "execution_count": null,
   "id": "49d7c6ae",
   "metadata": {},
   "outputs": [],
   "source": [
    "# 26 What is the output of the following script?\n",
    "\n",
    "print(sum(range(5), -1))\n",
    "from numpy import *\n",
    "print(sum(range(5), -1))\n",
    "\n",
    "# My guess: [-1, 0, 1, 2, 3]\n",
    "# Answer: 9 and 10"
   ]
  },
  {
   "cell_type": "code",
   "execution_count": null,
   "id": "3c2c70c3",
   "metadata": {},
   "outputs": [],
   "source": [
    "# Consider an integer vector Z, which of these expressions are legal?\n",
    "\n",
    "\"\"\"                     Answers\n",
    "    Z**Z                legal\n",
    "    2 << Z >> 2         legal\n",
    "    Z <- Z              legal\n",
    "    1j * Z              legal\n",
    "    Z/1/1               legal\n",
    "    Z<Z>Z               legal\n",
    "\n",
    "\"\"\""
   ]
  },
  {
   "cell_type": "code",
   "execution_count": null,
   "id": "62907fcb",
   "metadata": {},
   "outputs": [],
   "source": [
    "# What are the result of the following expressions?\n",
    "\n",
    "np.array(0) / np.array(0)\n",
    "np.array(0) // np.array(0)\n",
    "np.array([np.nan]).astype(int).astype(float)"
   ]
  },
  {
   "cell_type": "code",
   "execution_count": 148,
   "id": "8ca8ec6d",
   "metadata": {},
   "outputs": [
    {
     "data": {
      "text/plain": [
       "array([[35., 43., 57., 15., 83.],\n",
       "       [95., 28., 41., 22., 87.],\n",
       "       [49., 35., 91., 30., 24.],\n",
       "       [29., 50., 88., 31., 11.],\n",
       "       [19., 91., 98., 22., 87.]])"
      ]
     },
     "execution_count": 148,
     "metadata": {},
     "output_type": "execute_result"
    }
   ],
   "source": [
    "# How to round away from zero a float array?\n",
    "\n",
    "fltArr = np.random.random((5, 5))*100\n",
    "fltArr = np.ceil(fltArr)\n",
    "fltArr"
   ]
  },
  {
   "cell_type": "code",
   "execution_count": 150,
   "id": "88810260",
   "metadata": {},
   "outputs": [
    {
     "name": "stdout",
     "output_type": "stream",
     "text": [
      "[[42 22 62 15 45]\n",
      " [56 28 51 46  3]\n",
      " [35 60 33 40 38]\n",
      " [46 53 85 25  5]\n",
      " [24 26 54 39 53]]\n",
      "[[70 71 23 87 61]\n",
      " [45 75 14 97 73]\n",
      " [56 20 42 44 62]\n",
      " [41 38 87 68 72]\n",
      " [ 9 68 87 47 72]]\n",
      "[38 42 45 56 62]\n"
     ]
    }
   ],
   "source": [
    "# How to find common values between two arrays?\n",
    "\n",
    "a1 = np.random.randint(0, 100, (5, 5))\n",
    "a2 = np.random.randint(0, 100, (5, 5))\n",
    "\n",
    "intersection = np.intersect1d(a1, a2)\n",
    "print(a1)\n",
    "print(a2)\n",
    "print(intersection)"
   ]
  },
  {
   "cell_type": "code",
   "execution_count": null,
   "id": "529157b0",
   "metadata": {},
   "outputs": [],
   "source": [
    "# How to ignore all numpy warnings (not recommended .d )\n",
    "\n",
    "np.seterr(all='ignore')  # to go back, we have: np.seterr(**defaults)\n",
    "# equivalently, with a context manager with: np.errstate(all=\"ignore\"): np.arange(3) / 0"
   ]
  },
  {
   "cell_type": "code",
   "execution_count": null,
   "id": "ba07e103",
   "metadata": {},
   "outputs": [],
   "source": [
    "# 32 Is the following expressions true?\n",
    "\n",
    "np.sqrt(-1) == np.emath.sqrt(-1)\n",
    "# np.False because first is np.nan and the second is 1j"
   ]
  },
  {
   "cell_type": "code",
   "execution_count": null,
   "id": "48cd48c7",
   "metadata": {},
   "outputs": [
    {
     "data": {
      "text/plain": [
       "np.datetime64('2025-05-22')"
      ]
     },
     "execution_count": 161,
     "metadata": {},
     "output_type": "execute_result"
    }
   ],
   "source": [
    "# 33 How to get the dates of yesterday, today and tomorrow\n",
    "\n",
    "np.datetime64(\"today\") \n",
    "np.datetime64(\"today\") - 1 # or np.datetime64(\"today\") - np.timedelta64(1, 'day')\n",
    "np.datetime64(\"today\") + 1"
   ]
  }
 ],
 "metadata": {
  "kernelspec": {
   "display_name": ".venv",
   "language": "python",
   "name": "python3"
  },
  "language_info": {
   "codemirror_mode": {
    "name": "ipython",
    "version": 3
   },
   "file_extension": ".py",
   "mimetype": "text/x-python",
   "name": "python",
   "nbconvert_exporter": "python",
   "pygments_lexer": "ipython3",
   "version": "3.13.3"
  }
 },
 "nbformat": 4,
 "nbformat_minor": 5
}
